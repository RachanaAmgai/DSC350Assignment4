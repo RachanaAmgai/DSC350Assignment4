{
 "cells": [
  {
   "cell_type": "markdown",
   "id": "f396b89f-bea8-4836-8344-fe5c09320dbc",
   "metadata": {},
   "source": [
    "#### Rachana A gai\n",
    "#### Assignment 4\n",
    "#### 12/18/2024"
   ]
  },
  {
   "cell_type": "code",
   "execution_count": null,
   "id": "3fcea112-d966-4200-a619-559df3728d0c",
   "metadata": {},
   "outputs": [],
   "source": []
  },
  {
   "cell_type": "markdown",
   "id": "7b74a14b-bdb3-46cf-8d1e-71cfb1f062e2",
   "metadata": {},
   "source": [
    "#### Part 1"
   ]
  },
  {
   "cell_type": "code",
   "execution_count": 37,
   "id": "b5fd9c40-77ee-4b2e-a9ee-3c4be4ed42df",
   "metadata": {},
   "outputs": [
    {
     "name": "stdout",
     "output_type": "stream",
     "text": [
      "Number of rows: 202\n",
      "Column headers:\n",
      "Index(['Country', 'CountryID', 'Continent', 'Adolescent fertility rate (%)',\n",
      "       'Adult literacy rate (%)',\n",
      "       'Gross national income per capita (PPP international $)',\n",
      "       'Net primary school enrolment ratio female (%)',\n",
      "       'Net primary school enrolment ratio male (%)',\n",
      "       'Population (in thousands) total'],\n",
      "      dtype='object')\n",
      "Data types:\n",
      "Country                                                    object\n",
      "CountryID                                                   int64\n",
      "Continent                                                   int64\n",
      "Adolescent fertility rate (%)                             float64\n",
      "Adult literacy rate (%)                                   float64\n",
      "Gross national income per capita (PPP international $)    float64\n",
      "Net primary school enrolment ratio female (%)             float64\n",
      "Net primary school enrolment ratio male (%)               float64\n",
      "Population (in thousands) total                           float64\n",
      "dtype: object\n",
      "Index:\n",
      "RangeIndex(start=0, stop=202, step=1)\n"
     ]
    }
   ],
   "source": [
    "import pandas as pd\n",
    "\n",
    "# Loading the data into a DataFrame\n",
    "data = pd.read_csv('WHO_first9cols.csv')\n",
    "\n",
    "# Query the number of rows\n",
    "num_rows = data.shape[0]\n",
    "print(f\"Number of rows: {num_rows}\")\n",
    "\n",
    "# Print the column headers\n",
    "column_headers = data.columns\n",
    "print(\"Column headers:\")\n",
    "print(column_headers)\n",
    "\n",
    "# Print the data types of each column\n",
    "data_types = data.dtypes\n",
    "print(\"Data types:\")\n",
    "print(data_types)\n",
    "\n",
    "# Printing the index\n",
    "index = data.index\n",
    "print(\"Index:\")\n",
    "print(index)\n"
   ]
  },
  {
   "cell_type": "code",
   "execution_count": null,
   "id": "e61e6ef0-3a98-4bdd-bf4a-630a06513066",
   "metadata": {},
   "outputs": [],
   "source": []
  },
  {
   "cell_type": "markdown",
   "id": "302971d6-e15f-452b-b8f8-f7aa32f282fe",
   "metadata": {},
   "source": [
    "### part 2"
   ]
  },
  {
   "cell_type": "code",
   "execution_count": 38,
   "id": "b3bd21f3-7782-4950-9afd-b9b31d8228cd",
   "metadata": {},
   "outputs": [
    {
     "name": "stdout",
     "output_type": "stream",
     "text": [
      "Data type of 'Country' column: object\n",
      "Shape of 'Country' series: (202,)\n",
      "Index:\n",
      "RangeIndex(start=0, stop=202, step=1)\n",
      "Values:\n",
      "['Afghanistan' 'Albania' 'Algeria' 'Andorra' 'Angola'\n",
      " 'Antigua and Barbuda' 'Argentina' 'Armenia' 'Australia' 'Austria'\n",
      " 'Azerbaijan' 'Bahamas' 'Bahrain' 'Bangladesh' 'Barbados' 'Belarus'\n",
      " 'Belgium' 'Belize' 'Benin' 'Bermuda' 'Bhutan' 'Bolivia'\n",
      " 'Bosnia and Herzegovina' 'Botswana' 'Brazil' 'Brunei Darussalam'\n",
      " 'Bulgaria' 'Burkina Faso' 'Burundi' 'Cambodia' 'Cameroon' 'Canada'\n",
      " 'Cape Verde' 'Central African Republic' 'Chad' 'Chile' 'China' 'Colombia'\n",
      " 'Comoros' 'Congo, Dem. Rep.' 'Congo, Rep.' 'Cook Islands' 'Costa Rica'\n",
      " \"Cote d'Ivoire\" 'Croatia' 'Cuba' 'Cyprus' 'Czech Republic' 'Denmark'\n",
      " 'Djibouti' 'Dominica' 'Dominican Republic' 'Ecuador' 'Egypt'\n",
      " 'El Salvador' 'Equatorial Guinea' 'Eritrea' 'Estonia' 'Ethiopia' 'Fiji'\n",
      " 'Finland' 'France' 'French Polynesia' 'Gabon' 'Gambia' 'Georgia'\n",
      " 'Germany' 'Ghana' 'Greece' 'Grenada' 'Guatemala' 'Guinea' 'Guinea-Bissau'\n",
      " 'Guyana' 'Haiti' 'Honduras' 'Hong Kong, China' 'Hungary' 'Iceland'\n",
      " 'India' 'Indonesia' 'Iran (Islamic Republic of)' 'Iraq' 'Ireland'\n",
      " 'Israel' 'Italy' 'Jamaica' 'Japan' 'Jordan' 'Kazakhstan' 'Kenya'\n",
      " 'Kiribati' 'Korea, Dem. Rep.' 'Korea, Rep.' 'Kuwait' 'Kyrgyzstan'\n",
      " \"Lao People's Democratic Republic\" 'Latvia' 'Lebanon' 'Lesotho' 'Liberia'\n",
      " 'Libyan Arab Jamahiriya' 'Lithuania' 'Luxembourg' 'Macao, China'\n",
      " 'Macedonia' 'Madagascar' 'Malawi' 'Malaysia' 'Maldives' 'Mali' 'Malta'\n",
      " 'Marshall Islands' 'Mauritania' 'Mauritius' 'Mexico'\n",
      " 'Micronesia (Federated States of)' 'Moldova' 'Monaco' 'Mongolia'\n",
      " 'Montenegro' 'Morocco' 'Mozambique' 'Myanmar' 'Namibia' 'Nauru' 'Nepal'\n",
      " 'Netherlands' 'Netherlands Antilles' 'New Caledonia' 'New Zealand'\n",
      " 'Nicaragua' 'Niger' 'Nigeria' 'Niue' 'Norway' 'Oman' 'Pakistan' 'Palau'\n",
      " 'Panama' 'Papua New Guinea' 'Paraguay' 'Peru' 'Philippines' 'Poland'\n",
      " 'Portugal' 'Puerto Rico' 'Qatar' 'Romania' 'Russia' 'Rwanda'\n",
      " 'Saint Kitts and Nevis' 'Saint Lucia' 'Saint Vincent and the Grenadines'\n",
      " 'Samoa' 'San Marino' 'Sao Tome and Principe' 'Saudi Arabia' 'Senegal'\n",
      " 'Serbia' 'Seychelles' 'Sierra Leone' 'Singapore' 'Slovakia' 'Slovenia'\n",
      " 'Solomon Islands' 'Somalia' 'South Africa' 'Spain' 'Sri Lanka' 'Sudan'\n",
      " 'Suriname' 'Swaziland' 'Sweden' 'Switzerland' 'Syria' 'Taiwan'\n",
      " 'Tajikistan' 'Tanzania' 'Thailand' 'Timor-Leste' 'Togo' 'Tonga'\n",
      " 'Trinidad and Tobago' 'Tunisia' 'Turkey' 'Turkmenistan' 'Tuvalu' 'Uganda'\n",
      " 'Ukraine' 'United Arab Emirates' 'United Kingdom'\n",
      " 'United States of America' 'Uruguay' 'Uzbekistan' 'Vanuatu' 'Venezuela'\n",
      " 'Vietnam' 'West Bank and Gaza' 'Yemen' 'Zambia' 'Zimbabwe']\n",
      "Name of the column: Country\n"
     ]
    }
   ],
   "source": [
    "import pandas as pd\n",
    "\n",
    "# Loading the data into a DataFrame\n",
    "data = pd.read_csv('WHO_first9cols.csv')\n",
    "\n",
    "# Selecting the \"Country\" column\n",
    "country_column = data['Country']\n",
    "\n",
    "# Return the data type\n",
    "data_type = country_column.dtype\n",
    "print(f\"Data type of 'Country' column: {data_type}\")\n",
    "\n",
    "# Return the series shape\n",
    "shape = country_column.shape\n",
    "print(f\"Shape of 'Country' series: {shape}\")\n",
    "\n",
    "# Return the index\n",
    "index = country_column.index\n",
    "print(\"Index:\")\n",
    "print(index)\n",
    "\n",
    "# Return the values\n",
    "values = country_column.values\n",
    "print(\"Values:\")\n",
    "print(values)\n",
    "\n",
    "# Return the name of the column\n",
    "name = country_column.name\n",
    "print(f\"Name of the column: {name}\")\n"
   ]
  },
  {
   "cell_type": "code",
   "execution_count": null,
   "id": "8bb59157-0128-4805-adfd-ad5a57af7086",
   "metadata": {},
   "outputs": [],
   "source": []
  },
  {
   "cell_type": "markdown",
   "id": "c0a0949d-c853-4ce6-bbc1-00b5fadfd4c0",
   "metadata": {},
   "source": [
    "### part 3"
   ]
  },
  {
   "cell_type": "code",
   "execution_count": 32,
   "id": "f01a64a2-3682-41a3-8cbc-8ba88277f822",
   "metadata": {},
   "outputs": [
    {
     "name": "stdout",
     "output_type": "stream",
     "text": [
      "Requirement already satisfied: quandl in c:\\users\\pyaku\\anaconda4\\lib\\site-packages (3.7.0)\n",
      "Requirement already satisfied: pandas>=0.14 in c:\\users\\pyaku\\anaconda4\\lib\\site-packages (from quandl) (2.2.2)\n",
      "Requirement already satisfied: numpy>=1.8 in c:\\users\\pyaku\\anaconda4\\lib\\site-packages (from quandl) (1.26.4)\n",
      "Requirement already satisfied: requests>=2.7.0 in c:\\users\\pyaku\\anaconda4\\lib\\site-packages (from quandl) (2.32.2)\n",
      "Requirement already satisfied: inflection>=0.3.1 in c:\\users\\pyaku\\anaconda4\\lib\\site-packages (from quandl) (0.5.1)\n",
      "Requirement already satisfied: python-dateutil in c:\\users\\pyaku\\anaconda4\\lib\\site-packages (from quandl) (2.9.0.post0)\n",
      "Requirement already satisfied: six in c:\\users\\pyaku\\anaconda4\\lib\\site-packages (from quandl) (1.16.0)\n",
      "Requirement already satisfied: more-itertools in c:\\users\\pyaku\\anaconda4\\lib\\site-packages (from quandl) (10.1.0)\n",
      "Requirement already satisfied: pytz>=2020.1 in c:\\users\\pyaku\\anaconda4\\lib\\site-packages (from pandas>=0.14->quandl) (2024.1)\n",
      "Requirement already satisfied: tzdata>=2022.7 in c:\\users\\pyaku\\anaconda4\\lib\\site-packages (from pandas>=0.14->quandl) (2023.3)\n",
      "Requirement already satisfied: charset-normalizer<4,>=2 in c:\\users\\pyaku\\anaconda4\\lib\\site-packages (from requests>=2.7.0->quandl) (2.0.4)\n",
      "Requirement already satisfied: idna<4,>=2.5 in c:\\users\\pyaku\\anaconda4\\lib\\site-packages (from requests>=2.7.0->quandl) (3.7)\n",
      "Requirement already satisfied: urllib3<3,>=1.21.1 in c:\\users\\pyaku\\anaconda4\\lib\\site-packages (from requests>=2.7.0->quandl) (2.2.2)\n",
      "Requirement already satisfied: certifi>=2017.4.17 in c:\\users\\pyaku\\anaconda4\\lib\\site-packages (from requests>=2.7.0->quandl) (2024.12.14)\n",
      "Note: you may need to restart the kernel to use updated packages.\n"
     ]
    }
   ],
   "source": [
    "pip install quandl"
   ]
  },
  {
   "cell_type": "code",
   "execution_count": 48,
   "id": "1aecd85c-62c9-4643-9162-924af11bbbd9",
   "metadata": {},
   "outputs": [
    {
     "name": "stdout",
     "output_type": "stream",
     "text": [
      "Quandl Error: (Status 403) Something went wrong. Please try again. If you continue to have problems, please contact us at connect@quandl.com.\n"
     ]
    }
   ],
   "source": [
    "import quandl\n",
    "import pandas as pd\n",
    "\n",
    "# Set your Quandl API key\n",
    "quandl.ApiConfig.api_key = 'YOUR_ACTUAL_API_KEY'\n",
    "\n",
    "# Define the dataset code\n",
    "dataset_code = \"WDC/SUNSPOTS\"  \n",
    "\n",
    "try:\n",
    "    # Import data from Quandl\n",
    "    data = quandl.get(dataset_code)\n",
    "\n",
    "    # Display the head and tail of the dataset\n",
    "    print(\"Head of the dataset:\")\n",
    "    print(data.head())\n",
    "\n",
    "    print(\"\\nTail of the dataset:\")\n",
    "    print(data.tail())\n",
    "\n",
    "    # Query for the last value using the last date\n",
    "    last_date = data.index[-1]\n",
    "    last_value = data.loc[last_date]\n",
    "    print(f\"\\nLast value (date: {last_date}):\")\n",
    "    print(last_value)\n",
    "\n",
    "    # Query the dataset with date strings in the YYYYMMDD format\n",
    "    specific_date = \"20221201\"  # Replace with a valid date in the dataset\n",
    "    specific_date_formatted = pd.to_datetime(specific_date, format='%Y%m%d')\n",
    "    if specific_date_formatted in data.index:\n",
    "        print(f\"\\nData on {specific_date_formatted.date()}:\")\n",
    "        print(data.loc[specific_date_formatted])\n",
    "    else:\n",
    "        print(f\"\\nNo data available for {specific_date_formatted.date()}.\")\n",
    "\n",
    "    # Query with a Boolean where the number of observations is greater than the mean\n",
    "    observation_counts = data.groupby(data.index.date).size()  # Count observations per date\n",
    "    mean_observations = observation_counts.mean()\n",
    "    above_mean_obs_dates = observation_counts[observation_counts > mean_observations].index\n",
    "    print(\"\\nDates with more observations than the mean:\")\n",
    "    print(above_mean_obs_dates)\n",
    "\n",
    "    # Query with a Boolean where the number of sunspots is greater than the mean\n",
    "    mean_sunspots = data['Sunspots'].mean()\n",
    "    above_mean_sunspots = data[data['Sunspots'] > mean_sunspots]\n",
    "    print(\"\\nRows where the number of sunspots is greater than the mean:\")\n",
    "    print(above_mean_sunspots)\n",
    "\n",
    "except quandl.errors.quandl_error.QuandlError as e:\n",
    "    print(f\"Quandl Error: {e}\")\n",
    "\n",
    "except Exception as e:\n",
    "    print(f\"An unexpected error occurred: {e}\")\n"
   ]
  },
  {
   "cell_type": "code",
   "execution_count": null,
   "id": "0201b796-d84b-4557-80f3-48eb3e4b0d73",
   "metadata": {},
   "outputs": [],
   "source": []
  },
  {
   "cell_type": "markdown",
   "id": "d6483eb5-9cde-4b84-8cc6-a1042c70b9ca",
   "metadata": {},
   "source": [
    "### Part 4"
   ]
  },
  {
   "cell_type": "code",
   "execution_count": 49,
   "id": "69fcbd81-c789-4e9a-8a7c-85651f8c45d6",
   "metadata": {},
   "outputs": [
    {
     "name": "stdout",
     "output_type": "stream",
     "text": [
      "Quandl Error: (Status 403) Something went wrong. Please try again. If you continue to have problems, please contact us at connect@quandl.com.\n"
     ]
    }
   ],
   "source": [
    "import quandl\n",
    "import pandas as pd\n",
    "from scipy import stats\n",
    "\n",
    "# Set your Quandl API key\n",
    "quandl.ApiConfig.api_key = 'YOUR_ACTUAL_API_KEY'\n",
    "\n",
    "# Define the dataset code\n",
    "dataset_code = \"WDC/SUNSPOTS\"  # Replace with the correct dataset code\n",
    "\n",
    "try:\n",
    "    # Import data from Quandl\n",
    "    data = quandl.get(dataset_code)\n",
    "\n",
    "    # Filter out rows where 'Sunspots' is NaN\n",
    "    filtered_data = data.dropna(subset=['Sunspots'])\n",
    "\n",
    "    # Descriptive statistics\n",
    "    print(\"Descriptive Statistics:\")\n",
    "    print(filtered_data.describe())\n",
    "\n",
    "    # Count of observations\n",
    "    count = filtered_data.count()\n",
    "    print(f\"\\nCount of observations: {count}\")\n",
    "\n",
    "    # Mean\n",
    "    mean = filtered_data['Sunspots'].mean()\n",
    "    print(f\"\\nMean: {mean}\")\n",
    "\n",
    "    # Median\n",
    "    median = filtered_data['Sunspots'].median()\n",
    "    print(f\"\\nMedian: {median}\")\n",
    "\n",
    "    # Max\n",
    "    max_value = filtered_data['Sunspots'].max()\n",
    "    print(f\"\\nMax: {max_value}\")\n",
    "\n",
    "    # Min\n",
    "    min_value = filtered_data['Sunspots'].min()\n",
    "    print(f\"\\nMin: {min_value}\")\n",
    "\n",
    "    # Mode\n",
    "    mode = filtered_data['Sunspots'].mode()\n",
    "    print(f\"\\nMode: {mode}\")\n",
    "\n",
    "    # Standard Deviation\n",
    "    std_dev = filtered_data['Sunspots'].std()\n",
    "    print(f\"\\nStandard Deviation: {std_dev}\")\n",
    "\n",
    "    # Variance\n",
    "    variance = filtered_data['Sunspots'].var()\n",
    "    print(f\"\\nVariance: {variance}\")\n",
    "\n",
    "    # Skewness\n",
    "    skewness = stats.skew(filtered_data['Sunspots'])\n",
    "    print(f\"\\nSkewness: {skewness}\")\n",
    "\n",
    "except quandl.errors.quandl_error.QuandlError as e:\n",
    "    print(f\"Quandl Error: {e}\")\n",
    "\n",
    "except Exception as e:\n",
    "    print(f\"An unexpected error occurred: {e}\")\n"
   ]
  },
  {
   "cell_type": "markdown",
   "id": "d05dc5d8-7bf4-46cb-bfb6-0b87fa212b14",
   "metadata": {},
   "source": [
    "### part 5"
   ]
  },
  {
   "cell_type": "code",
   "execution_count": 41,
   "id": "868cd915-f005-407b-9db5-137613600225",
   "metadata": {},
   "outputs": [
    {
     "name": "stdout",
     "output_type": "stream",
     "text": [
      "First row for each Weather group:\n",
      "         Food Price  Number\n",
      "Weather                    \n",
      "Cold      48.796394       7\n",
      "Hot       10.823380      51\n",
      "\n",
      "Last row for each Weather group:\n",
      "         Food Price  Number\n",
      "Weather                    \n",
      "Cold      33.696583      44\n",
      "Hot       11.858017       8\n",
      "\n",
      "Mean for each Weather group:\n",
      "         Food Price     Number\n",
      "Weather                       \n",
      "Cold      28.325350  42.571429\n",
      "Hot       24.614199  45.461538\n",
      "\n",
      "Aggregated statistics for Weather and Food Price groups:\n",
      "                   Number        Food Price           \n",
      "                     mean median       mean     median\n",
      "Weather Food Price                                    \n",
      "Cold    17.336180    18.0   18.0  17.336180  17.336180\n",
      "        17.986951    60.0   60.0  17.986951  17.986951\n",
      "        21.649166    14.0   14.0  21.649166  21.649166\n",
      "        28.242799    84.0   84.0  28.242799  28.242799\n",
      "        30.569378    71.0   71.0  30.569378  30.569378\n",
      "        33.696583    44.0   44.0  33.696583  33.696583\n",
      "        48.796394     7.0    7.0  48.796394  48.796394\n",
      "Hot     10.823380    51.0   51.0  10.823380  10.823380\n",
      "        11.858017     8.0    8.0  11.858017  11.858017\n",
      "        15.579754    90.0   90.0  15.579754  15.579754\n",
      "        17.272999    39.0   39.0  17.272999  17.272999\n",
      "        18.493564    73.0   73.0  18.493564  18.493564\n",
      "        21.685786    53.0   53.0  21.685786  21.685786\n",
      "        22.169690     4.0    4.0  22.169690  22.169690\n",
      "        24.654474     2.0    2.0  24.654474  24.654474\n",
      "        27.277801    60.0   60.0  27.277801  27.277801\n",
      "        30.990257    89.0   89.0  30.990257  30.990257\n",
      "        34.474116     9.0    9.0  34.474116  34.474116\n",
      "        41.407038    92.0   92.0  41.407038  41.407038\n",
      "        43.297706    21.0   21.0  43.297706  43.297706\n"
     ]
    }
   ],
   "source": [
    "import numpy as np\n",
    "import pandas as pd\n",
    "\n",
    "# Step 1: Create a DataFrame\n",
    "np.random.seed(42)  # Ensure reproducibility\n",
    "data = pd.DataFrame({\n",
    "    'Weather': np.random.choice(['Hot', 'Cold'], size=20),\n",
    "    'Food Price': np.random.uniform(10, 50, size=20),\n",
    "    'Number': np.random.randint(1, 100, size=20)\n",
    "})\n",
    "\n",
    "# Step 2: Group by the Weather column\n",
    "weather_group = data.groupby('Weather')\n",
    "\n",
    "# Step 3: Function to iterate through the groups and perform operations\n",
    "print(\"First row for each Weather group:\")\n",
    "print(weather_group.first())\n",
    "\n",
    "print(\"\\nLast row for each Weather group:\")\n",
    "print(weather_group.last())\n",
    "\n",
    "print(\"\\nMean for each Weather group:\")\n",
    "print(weather_group.mean())\n",
    "\n",
    "# Step 4: Create another group (Weather and Food Price)\n",
    "weather_food_group = data.groupby(['Weather', 'Food Price'])\n",
    "\n",
    "# Step 5: Use the `agg()` function to find the mean and median of Number and Food Price\n",
    "agg_results = weather_food_group.agg({\n",
    "    'Number': ['mean', 'median'],\n",
    "    'Food Price': ['mean', 'median']\n",
    "})\n",
    "\n",
    "# Print the results of the aggregation\n",
    "print(\"\\nAggregated statistics for Weather and Food Price groups:\")\n",
    "print(agg_results)\n"
   ]
  },
  {
   "cell_type": "markdown",
   "id": "cca5e55f-85a3-4383-a330-47fa13fd4de1",
   "metadata": {},
   "source": [
    "### part 6"
   ]
  },
  {
   "cell_type": "code",
   "execution_count": 45,
   "id": "0c8de834-a5b6-4d19-a330-12ea0b737389",
   "metadata": {},
   "outputs": [
    {
     "name": "stdout",
     "output_type": "stream",
     "text": [
      "Original DataFrame:\n",
      "  Weather  Food Price  Number\n",
      "0     Hot   10.881292      87\n",
      "1     Hot   11.387495      62\n",
      "2    Cold    4.512235      40\n",
      "3     Hot   19.422108      85\n",
      "4    Cold   15.727524      80\n",
      "5    Cold   18.850480      82\n",
      "6    Cold   18.001720      53\n",
      "7    Cold   12.360100      24\n",
      "8    Cold   18.515610      26\n",
      "9    Cold    2.681358      89\n",
      "\n",
      "DataFrame after appending first 3 rows and last 2 rows:\n",
      "  Weather  Food Price  Number\n",
      "0     Hot   10.881292      87\n",
      "1     Hot   11.387495      62\n",
      "2    Cold    4.512235      40\n",
      "3    Cold   18.515610      26\n",
      "4    Cold    2.681358      89\n"
     ]
    }
   ],
   "source": [
    "import pandas as pd\n",
    "import numpy as np\n",
    "\n",
    "# Step 1: Create a sample DataFrame\n",
    "data = pd.DataFrame({\n",
    "    \"Weather\": np.random.choice([\"Hot\", \"Cold\"], size=10),\n",
    "    \"Food Price\": np.random.uniform(1, 20, size=10),\n",
    "    \"Number\": np.random.randint(1, 100, size=10)\n",
    "})\n",
    "\n",
    "# Step 2: Select the first 3 rows\n",
    "first_3_rows = data.iloc[:3]\n",
    "\n",
    "# Step 3: Select the last 2 rows of the original DataFrame\n",
    "last_2_rows = data.iloc[-2:]\n",
    "\n",
    "# Step 4: Append the selected rows (first 3 + last 2) together using concat\n",
    "appended_df = pd.concat([first_3_rows, last_2_rows], ignore_index=True)\n",
    "\n",
    "# Print results\n",
    "print(\"Original DataFrame:\")\n",
    "print(data)\n",
    "print(\"\\nDataFrame after appending first 3 rows and last 2 rows:\")\n",
    "print(appended_df)\n",
    "\n"
   ]
  },
  {
   "cell_type": "markdown",
   "id": "652bf10b-c219-4f56-a43a-a85fd6b1c0d7",
   "metadata": {},
   "source": [
    "### part 7"
   ]
  },
  {
   "cell_type": "code",
   "execution_count": 43,
   "id": "e5cb7788-ee1c-4dc4-9d34-532578c8dead",
   "metadata": {},
   "outputs": [
    {
     "name": "stdout",
     "output_type": "stream",
     "text": [
      "Result of merge() on 'EmpNr':\n",
      "   EmpNr       Dest  Amount\n",
      "0      5  The Hague    10.0\n",
      "1      9  Rotterdam     5.0\n",
      "\n",
      "Result of join() using 'EmpNr' as the index:\n",
      "            Dest  Amount\n",
      "EmpNr                   \n",
      "5      The Hague    10.0\n",
      "9      Rotterdam     5.0\n"
     ]
    }
   ],
   "source": [
    "import pandas as pd\n",
    "\n",
    "# Load the CSV files into DataFrames\n",
    "dest = pd.read_csv(\"dest.csv\")\n",
    "tips = pd.read_csv(\"tips.csv\")\n",
    "\n",
    "# Step 1: Use merge() to bring the datasets together on the \"EmpNr\" column\n",
    "merged_df = pd.merge(dest, tips, on=\"EmpNr\")\n",
    "print(\"Result of merge() on 'EmpNr':\")\n",
    "print(merged_df)\n",
    "\n",
    "# Step 2: Use join() to query both files and print the results\n",
    "# Ensure both DataFrames have the same index or set 'EmpNr' as the index for a meaningful join\n",
    "dest_indexed = dest.set_index(\"EmpNr\")\n",
    "tips_indexed = tips.set_index(\"EmpNr\")\n",
    "\n",
    "# Perform the join\n",
    "joined_df = dest_indexed.join(tips_indexed, how=\"inner\")  # Inner join by default\n",
    "print(\"\\nResult of join() using 'EmpNr' as the index:\")\n",
    "print(joined_df)\n"
   ]
  },
  {
   "cell_type": "markdown",
   "id": "1eb6d71a-6d4d-4789-8ca3-a6b90987b897",
   "metadata": {},
   "source": [
    "### Part 8"
   ]
  },
  {
   "cell_type": "code",
   "execution_count": 44,
   "id": "bdc8b50f-bc20-4c20-bbd5-4de77d58c288",
   "metadata": {},
   "outputs": [
    {
     "name": "stdout",
     "output_type": "stream",
     "text": [
      "First 3 rows (Country and Net primary school enrolment ratio male (%)):\n",
      "       Country  Net primary school enrolment ratio male (%)\n",
      "0  Afghanistan                                          NaN\n",
      "1      Albania                                         94.0\n",
      "2      Algeria                                         96.0\n",
      "\n",
      "Missing values in the selected columns:\n",
      "   Country  Net primary school enrolment ratio male (%)\n",
      "0    False                                         True\n",
      "1    False                                        False\n",
      "2    False                                        False\n",
      "\n",
      "Count of NaN values in each column:\n",
      "Country                                        0\n",
      "Net primary school enrolment ratio male (%)    1\n",
      "dtype: int64\n",
      "\n",
      "Non-missing values:\n",
      "   Country  Net primary school enrolment ratio male (%)\n",
      "1  Albania                                         94.0\n",
      "2  Algeria                                         96.0\n",
      "\n",
      "Columns after replacing missing values with 0:\n",
      "       Country  Net primary school enrolment ratio male (%)\n",
      "0  Afghanistan                                          0.0\n",
      "1      Albania                                         94.0\n",
      "2      Algeria                                         96.0\n"
     ]
    }
   ],
   "source": [
    "import pandas as pd\n",
    "\n",
    "# Load the WHO_first9cols.csv file\n",
    "file_path = \"WHO_first9cols.csv\"\n",
    "df = pd.read_csv(file_path)\n",
    "\n",
    "# Step 1: Select the first 3 rows for the columns \"Country\" and \"Net primary school enrolment ratio male (%)\"\n",
    "selected_columns = df[[\"Country\", \"Net primary school enrolment ratio male (%)\"]].head(3)\n",
    "print(\"First 3 rows (Country and Net primary school enrolment ratio male (%)):\")\n",
    "print(selected_columns)\n",
    "\n",
    "# Step 2: Check for missing values\n",
    "print(\"\\nMissing values in the selected columns:\")\n",
    "print(selected_columns.isnull())\n",
    "\n",
    "# Step 3: Count the number of NaN values\n",
    "nan_count = selected_columns.isnull().sum()\n",
    "print(\"\\nCount of NaN values in each column:\")\n",
    "print(nan_count)\n",
    "\n",
    "# Step 4: Print any non-missing values\n",
    "non_missing = selected_columns.dropna()\n",
    "print(\"\\nNon-missing values:\")\n",
    "print(non_missing)\n",
    "\n",
    "# Step 5: Replace missing values with a scalar value (e.g., 0 or a specified value)\n",
    "filled_columns = selected_columns.fillna(0)\n",
    "print(\"\\nColumns after replacing missing values with 0:\")\n",
    "print(filled_columns)\n"
   ]
  },
  {
   "cell_type": "code",
   "execution_count": null,
   "id": "6485e4aa-8a00-4593-9796-2488d0f2b213",
   "metadata": {},
   "outputs": [],
   "source": []
  }
 ],
 "metadata": {
  "kernelspec": {
   "display_name": "Python 3 (ipykernel)",
   "language": "python",
   "name": "python3"
  },
  "language_info": {
   "codemirror_mode": {
    "name": "ipython",
    "version": 3
   },
   "file_extension": ".py",
   "mimetype": "text/x-python",
   "name": "python",
   "nbconvert_exporter": "python",
   "pygments_lexer": "ipython3",
   "version": "3.12.4"
  }
 },
 "nbformat": 4,
 "nbformat_minor": 5
}
